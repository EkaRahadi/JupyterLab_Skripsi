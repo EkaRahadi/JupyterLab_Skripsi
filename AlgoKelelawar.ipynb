{
 "cells": [
  {
   "cell_type": "code",
   "execution_count": 2,
   "metadata": {},
   "outputs": [],
   "source": [
    "import math\n",
    "import random\n",
    "import numpy as np"
   ]
  },
  {
   "cell_type": "code",
   "execution_count": 3,
   "metadata": {},
   "outputs": [],
   "source": [
    "def fungUji(x, y):\n",
    "    return x**2 + y**2 + 25*(np.sin(x)**2 + np.sin(y)**2)"
   ]
  },
  {
   "cell_type": "code",
   "execution_count": 4,
   "metadata": {},
   "outputs": [],
   "source": [
    "#Sol = Posisi kelelawar\n",
    "#S = Posisi kelelawar sementara\n",
    "def algoKelelawar(n, A, r):\n",
    "#     n => population of bats\n",
    "#     A => loudness\n",
    "#     r = pulse rate\n",
    "    \n",
    "    Qmin = 0 # lowest frequency\n",
    "    Qmax = 2 # highest frequency\n",
    "    \n",
    "    #Loop parameter\n",
    "    tol = 10 #loop limit\n",
    "    N_iter = 0     #number of iterations\n",
    "    \n",
    "    #search space dimension\n",
    "    d = 2\n",
    "    \n",
    "    #initial array of values\n",
    "    Q = np.zeros(n) #frequency each bat\n",
    "    v = np.zeros((n, d)) #the speed of each bat in each dimension\n",
    "    \n",
    "    #assignment of initial values in bat populations (solution)\n",
    "#     Sol = np.zeros((n, d))\n",
    "    Sol = np.random.randint(5, size=(n, d))\n",
    "    S = np.zeros((n, d))\n",
    "    Fitness = np.zeros(n)\n",
    "    \n",
    "    #initial best solution\n",
    "    initialFungUji = []\n",
    "    for i in range(len(Sol)):\n",
    "        initialFungUji.append(fungUji(Sol[i, 0], Sol[i, 1]))\n",
    "        \n",
    "    fmin = min(initialFungUji)\n",
    "    fminIndex = initialFungUji.index(fmin)\n",
    "    best = Sol[fminIndex, :]\n",
    "    \n",
    "    #The application of bat algorithm\n",
    "    while N_iter < tol:\n",
    "        \n",
    "        #loops imposed all bats\n",
    "        for i in range(n):\n",
    "            beta = np.random.rand()\n",
    "            Q[i] = Qmin + (Qmax-Qmin) * beta\n",
    "            v[i, :] = v[i, :] + (Sol[i, :] - best) * Q[i] #*\n",
    "            S[i, :] = Sol[i, :] + v[i, :]\n",
    "            \n",
    "             #pulse rate effect\n",
    "            alpha = 0.01\n",
    "            if np.random.rand() > r:\n",
    "                S[i, :] = best + alpha * np.random.randn(1, d)\n",
    "        \n",
    "            x = S[i, 0]\n",
    "            y = S[i, 1]\n",
    "            Fnew = fungUji(x, y)\n",
    "        \n",
    "            if Fnew <= Fitness[i] and np.random.rand() < A:\n",
    "                Sol[i, :] = S[i, :].copy()\n",
    "                Fitness[i] = Fnew.copy()\n",
    "            \n",
    "            \n",
    "            #update the smallest / best test function value\n",
    "            if Fnew < fmin:\n",
    "                best = S[i, :].copy()\n",
    "                fmin = Fnew.copy()\n",
    "        print(best)\n",
    "        print(fmin)\n",
    "        N_iter = N_iter + 1"
   ]
  },
  {
   "cell_type": "code",
   "execution_count": 6,
   "metadata": {},
   "outputs": [
    {
     "name": "stdout",
     "output_type": "stream",
     "text": [
      "[0.00940906 3.00598986]\n",
      "9.495168913937704\n",
      "[-0.00958543  3.02671386]\n",
      "9.491865225210327\n",
      "[3.93137381e-05 3.01028631e+00]\n",
      "9.49038609006695\n",
      "[3.93137381e-05 3.01028631e+00]\n",
      "9.49038609006695\n",
      "[-0.00414429  3.01665717]\n",
      "9.488862820123535\n",
      "[0.00316347 3.01795148]\n",
      "9.488526320222586\n",
      "[0.00316347 3.01795148]\n",
      "9.488526320222586\n",
      "[6.25831451e-04 3.02079252e+00]\n",
      "9.488243337647397\n",
      "[6.25831451e-04 3.02079252e+00]\n",
      "9.488243337647397\n",
      "[6.25831451e-04 3.02079252e+00]\n",
      "9.488243337647397\n"
     ]
    }
   ],
   "source": [
    "algoKelelawar(10, 0.25, 0.5)"
   ]
  },
  {
   "cell_type": "code",
   "execution_count": null,
   "metadata": {},
   "outputs": [],
   "source": []
  },
  {
   "cell_type": "code",
   "execution_count": null,
   "metadata": {},
   "outputs": [],
   "source": []
  }
 ],
 "metadata": {
  "kernelspec": {
   "display_name": "Python 3",
   "language": "python",
   "name": "python3"
  },
  "language_info": {
   "codemirror_mode": {
    "name": "ipython",
    "version": 3
   },
   "file_extension": ".py",
   "mimetype": "text/x-python",
   "name": "python",
   "nbconvert_exporter": "python",
   "pygments_lexer": "ipython3",
   "version": "3.7.4"
  }
 },
 "nbformat": 4,
 "nbformat_minor": 4
}
